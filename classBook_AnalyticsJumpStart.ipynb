{
 "cells": [
  {
   "cell_type": "markdown",
   "id": "480103d2",
   "metadata": {},
   "source": [
    "# <p style=\"text-align: center;\">Rainwater Morehead's Class Notebook for Nashville Software School - Analytics Jumpstart </p>\n",
    "## <p style=\"text-align: center;\">Rainwater Morehead | she/her | https://github.com/Kytsuine | rain.m@mailfence.com</p>\n",
    "## <p style=\"text-align: center;\">Python · Pandas · Seaborn</p>"
   ]
  },
  {
   "cell_type": "code",
   "execution_count": 1,
   "id": "b708ac0f",
   "metadata": {},
   "outputs": [],
   "source": [
    "import pandas as pd    ##Imports with standard abbreviations for these libraries. Pandas is a data management library.\n",
    "import matplotlib.pyplot as plt  ##Used to plot data.\n",
    "import seaborn as sns  ##Used to plot data more accessibly and prettily than with matplotlib; depends on plt.\n",
    "import sqlite3 as sql  ##Used to manage databases.\n",
    "                       ##Outputs plots in the notebook.\n",
    "%matplotlib inline    "
   ]
  },
  {
   "cell_type": "markdown",
   "id": "461659a8",
   "metadata": {},
   "source": [
    "# Police Calls Dataset and Analysis"
   ]
  },
  {
   "cell_type": "code",
   "execution_count": 2,
   "id": "16d2701a",
   "metadata": {
    "scrolled": true
   },
   "outputs": [],
   "source": [
    "police_Calls = pd.read_csv('../data/police_calls_2018.csv')  ##Imports a data set from csv, uses the pandas library."
   ]
  },
  {
   "cell_type": "code",
   "execution_count": 3,
   "id": "988bf7b9",
   "metadata": {},
   "outputs": [
    {
     "data": {
      "text/html": [
       "<div>\n",
       "<style scoped>\n",
       "    .dataframe tbody tr th:only-of-type {\n",
       "        vertical-align: middle;\n",
       "    }\n",
       "\n",
       "    .dataframe tbody tr th {\n",
       "        vertical-align: top;\n",
       "    }\n",
       "\n",
       "    .dataframe thead th {\n",
       "        text-align: right;\n",
       "    }\n",
       "</style>\n",
       "<table border=\"1\" class=\"dataframe\">\n",
       "  <thead>\n",
       "    <tr style=\"text-align: right;\">\n",
       "      <th></th>\n",
       "      <th>Event Number</th>\n",
       "      <th>Call Received</th>\n",
       "      <th>Complaint Number</th>\n",
       "      <th>Shift</th>\n",
       "      <th>Tencode</th>\n",
       "      <th>Tencode Description</th>\n",
       "      <th>Disposition Code</th>\n",
       "      <th>Disposition Description</th>\n",
       "      <th>Block</th>\n",
       "      <th>Street Name</th>\n",
       "      <th>Unit Dispatched</th>\n",
       "      <th>Sector</th>\n",
       "      <th>Zone</th>\n",
       "      <th>Latitude</th>\n",
       "      <th>Longitude</th>\n",
       "      <th>geometry</th>\n",
       "      <th>zipcode</th>\n",
       "      <th>PO</th>\n",
       "    </tr>\n",
       "  </thead>\n",
       "  <tbody>\n",
       "    <tr>\n",
       "      <th>0</th>\n",
       "      <td>PD201800174484</td>\n",
       "      <td>02/16/2018 07:09:00 PM</td>\n",
       "      <td>20180155542</td>\n",
       "      <td>B</td>\n",
       "      <td>93</td>\n",
       "      <td>Traffic Violation</td>\n",
       "      <td>3</td>\n",
       "      <td>CITATION - TRAFFIC</td>\n",
       "      <td>600.0</td>\n",
       "      <td>ALBANY DR</td>\n",
       "      <td>521B</td>\n",
       "      <td>H</td>\n",
       "      <td>23</td>\n",
       "      <td>36.210</td>\n",
       "      <td>-86.600</td>\n",
       "      <td>POINT (-86.59999999999999 36.21)</td>\n",
       "      <td>37076</td>\n",
       "      <td>HERMITAGE</td>\n",
       "    </tr>\n",
       "    <tr>\n",
       "      <th>1</th>\n",
       "      <td>PD201800174650</td>\n",
       "      <td>02/16/2018 08:02:00 PM</td>\n",
       "      <td>20180155684</td>\n",
       "      <td>B</td>\n",
       "      <td>93</td>\n",
       "      <td>Traffic Violation</td>\n",
       "      <td>9</td>\n",
       "      <td>SUBJECT WARNED</td>\n",
       "      <td>5800.0</td>\n",
       "      <td>OLD HICKORY BLVD</td>\n",
       "      <td>5F34</td>\n",
       "      <td>H</td>\n",
       "      <td>21</td>\n",
       "      <td>36.169</td>\n",
       "      <td>-86.601</td>\n",
       "      <td>POINT (-86.601 36.169)</td>\n",
       "      <td>37076</td>\n",
       "      <td>HERMITAGE</td>\n",
       "    </tr>\n",
       "    <tr>\n",
       "      <th>2</th>\n",
       "      <td>PD201800175038</td>\n",
       "      <td>02/16/2018 10:16:00 PM</td>\n",
       "      <td>20180156001</td>\n",
       "      <td>B</td>\n",
       "      <td>3</td>\n",
       "      <td>Administrative/Special Assignment</td>\n",
       "      <td>6</td>\n",
       "      <td>ASSISTED OTHER UNIT</td>\n",
       "      <td>3700.0</td>\n",
       "      <td>JAMES KAY LN</td>\n",
       "      <td>521B</td>\n",
       "      <td>H</td>\n",
       "      <td>21</td>\n",
       "      <td>36.178</td>\n",
       "      <td>-86.616</td>\n",
       "      <td>POINT (-86.616 36.178)</td>\n",
       "      <td>37076</td>\n",
       "      <td>HERMITAGE</td>\n",
       "    </tr>\n",
       "    <tr>\n",
       "      <th>3</th>\n",
       "      <td>PD201800174217</td>\n",
       "      <td>02/16/2018 05:58:00 PM</td>\n",
       "      <td>20180155321</td>\n",
       "      <td>B</td>\n",
       "      <td>87</td>\n",
       "      <td>Safety Hazard</td>\n",
       "      <td>3</td>\n",
       "      <td>CITATION - TRAFFIC</td>\n",
       "      <td>0.0</td>\n",
       "      <td>MM 221 4 I40 E</td>\n",
       "      <td>5122</td>\n",
       "      <td>H</td>\n",
       "      <td>23</td>\n",
       "      <td>36.170</td>\n",
       "      <td>-86.591</td>\n",
       "      <td>POINT (-86.59100000000001 36.17)</td>\n",
       "      <td>37076</td>\n",
       "      <td>HERMITAGE</td>\n",
       "    </tr>\n",
       "    <tr>\n",
       "      <th>4</th>\n",
       "      <td>PD201800173907</td>\n",
       "      <td>02/16/2018 04:19:00 PM</td>\n",
       "      <td>20180155047</td>\n",
       "      <td>B</td>\n",
       "      <td>93</td>\n",
       "      <td>Traffic Violation</td>\n",
       "      <td>9</td>\n",
       "      <td>SUBJECT WARNED</td>\n",
       "      <td>1300.0</td>\n",
       "      <td>TULIP GROVE RD</td>\n",
       "      <td>521B</td>\n",
       "      <td>H</td>\n",
       "      <td>23</td>\n",
       "      <td>36.175</td>\n",
       "      <td>-86.596</td>\n",
       "      <td>POINT (-86.596 36.175)</td>\n",
       "      <td>37076</td>\n",
       "      <td>HERMITAGE</td>\n",
       "    </tr>\n",
       "  </tbody>\n",
       "</table>\n",
       "</div>"
      ],
      "text/plain": [
       "     Event Number           Call Received  Complaint Number Shift  Tencode  \\\n",
       "0  PD201800174484  02/16/2018 07:09:00 PM       20180155542     B       93   \n",
       "1  PD201800174650  02/16/2018 08:02:00 PM       20180155684     B       93   \n",
       "2  PD201800175038  02/16/2018 10:16:00 PM       20180156001     B        3   \n",
       "3  PD201800174217  02/16/2018 05:58:00 PM       20180155321     B       87   \n",
       "4  PD201800173907  02/16/2018 04:19:00 PM       20180155047     B       93   \n",
       "\n",
       "                 Tencode Description  Disposition Code  \\\n",
       "0                  Traffic Violation                 3   \n",
       "1                  Traffic Violation                 9   \n",
       "2  Administrative/Special Assignment                 6   \n",
       "3                      Safety Hazard                 3   \n",
       "4                  Traffic Violation                 9   \n",
       "\n",
       "  Disposition Description   Block        Street Name Unit Dispatched Sector  \\\n",
       "0      CITATION - TRAFFIC   600.0         ALBANY DR             521B      H   \n",
       "1          SUBJECT WARNED  5800.0  OLD HICKORY BLVD             5F34      H   \n",
       "2     ASSISTED OTHER UNIT  3700.0      JAMES KAY LN             521B      H   \n",
       "3      CITATION - TRAFFIC     0.0     MM 221 4 I40 E            5122      H   \n",
       "4          SUBJECT WARNED  1300.0    TULIP GROVE RD             521B      H   \n",
       "\n",
       "  Zone  Latitude  Longitude                          geometry  zipcode  \\\n",
       "0   23    36.210    -86.600  POINT (-86.59999999999999 36.21)    37076   \n",
       "1   21    36.169    -86.601            POINT (-86.601 36.169)    37076   \n",
       "2   21    36.178    -86.616            POINT (-86.616 36.178)    37076   \n",
       "3   23    36.170    -86.591  POINT (-86.59100000000001 36.17)    37076   \n",
       "4   23    36.175    -86.596            POINT (-86.596 36.175)    37076   \n",
       "\n",
       "          PO  \n",
       "0  HERMITAGE  \n",
       "1  HERMITAGE  \n",
       "2  HERMITAGE  \n",
       "3  HERMITAGE  \n",
       "4  HERMITAGE  "
      ]
     },
     "execution_count": 3,
     "metadata": {},
     "output_type": "execute_result"
    }
   ],
   "source": [
    "police_Calls.head() ##Returns the first five rows of the data set by default, pass argument within the parenthesis to "
   ]
  },
  {
   "cell_type": "code",
   "execution_count": 4,
   "id": "ca6cb6c3",
   "metadata": {},
   "outputs": [
    {
     "data": {
      "text/html": [
       "<div>\n",
       "<style scoped>\n",
       "    .dataframe tbody tr th:only-of-type {\n",
       "        vertical-align: middle;\n",
       "    }\n",
       "\n",
       "    .dataframe tbody tr th {\n",
       "        vertical-align: top;\n",
       "    }\n",
       "\n",
       "    .dataframe thead th {\n",
       "        text-align: right;\n",
       "    }\n",
       "</style>\n",
       "<table border=\"1\" class=\"dataframe\">\n",
       "  <thead>\n",
       "    <tr style=\"text-align: right;\">\n",
       "      <th></th>\n",
       "      <th>Event Number</th>\n",
       "      <th>Call Received</th>\n",
       "      <th>Complaint Number</th>\n",
       "      <th>Shift</th>\n",
       "      <th>Tencode</th>\n",
       "      <th>Tencode Description</th>\n",
       "      <th>Disposition Code</th>\n",
       "      <th>Disposition Description</th>\n",
       "      <th>Block</th>\n",
       "      <th>Street Name</th>\n",
       "      <th>Unit Dispatched</th>\n",
       "      <th>Sector</th>\n",
       "      <th>Zone</th>\n",
       "      <th>Latitude</th>\n",
       "      <th>Longitude</th>\n",
       "      <th>geometry</th>\n",
       "      <th>zipcode</th>\n",
       "      <th>PO</th>\n",
       "    </tr>\n",
       "  </thead>\n",
       "  <tbody>\n",
       "    <tr>\n",
       "      <th>718018</th>\n",
       "      <td>PD201800855208</td>\n",
       "      <td>08/29/2018 09:11:36 AM</td>\n",
       "      <td>20180740194</td>\n",
       "      <td>A</td>\n",
       "      <td>45</td>\n",
       "      <td>Vehicle Accident - Property Damage</td>\n",
       "      <td>1</td>\n",
       "      <td>M.P.D. REPORT COMPLED</td>\n",
       "      <td>6900.0</td>\n",
       "      <td>NOLENSVILLE PKE</td>\n",
       "      <td>3T73</td>\n",
       "      <td>S</td>\n",
       "      <td>31</td>\n",
       "      <td>35.994</td>\n",
       "      <td>-86.685</td>\n",
       "      <td>POINT (-86.685 35.994)</td>\n",
       "      <td>37027</td>\n",
       "      <td>BRENTWOOD</td>\n",
       "    </tr>\n",
       "    <tr>\n",
       "      <th>718019</th>\n",
       "      <td>PD201800783912</td>\n",
       "      <td>08/08/2018 10:15:20 AM</td>\n",
       "      <td>0</td>\n",
       "      <td>A</td>\n",
       "      <td>43</td>\n",
       "      <td>Want Officer for Investigation / Assistance</td>\n",
       "      <td>11</td>\n",
       "      <td>DISREGARD / SIGNAL 9</td>\n",
       "      <td>0.0</td>\n",
       "      <td>HIGHWAY 70&amp;CHEATHAM CO LINE</td>\n",
       "      <td>NaN</td>\n",
       "      <td>W</td>\n",
       "      <td>25</td>\n",
       "      <td>36.094</td>\n",
       "      <td>-87.038</td>\n",
       "      <td>POINT (-87.038 36.094)</td>\n",
       "      <td>37143</td>\n",
       "      <td>PEGRAM</td>\n",
       "    </tr>\n",
       "    <tr>\n",
       "      <th>718020</th>\n",
       "      <td>PD201800800491</td>\n",
       "      <td>08/13/2018 11:51:29 AM</td>\n",
       "      <td>20180693242</td>\n",
       "      <td>A</td>\n",
       "      <td>96</td>\n",
       "      <td>Business Check</td>\n",
       "      <td>4</td>\n",
       "      <td>ASSISTED CITIZEN</td>\n",
       "      <td>0.0</td>\n",
       "      <td>HIGHWAY 70&amp;CHEATHAM CO LINE</td>\n",
       "      <td>5252</td>\n",
       "      <td>W</td>\n",
       "      <td>23</td>\n",
       "      <td>36.094</td>\n",
       "      <td>-87.038</td>\n",
       "      <td>POINT (-87.038 36.094)</td>\n",
       "      <td>37143</td>\n",
       "      <td>PEGRAM</td>\n",
       "    </tr>\n",
       "  </tbody>\n",
       "</table>\n",
       "</div>"
      ],
      "text/plain": [
       "          Event Number           Call Received  Complaint Number Shift  \\\n",
       "718018  PD201800855208  08/29/2018 09:11:36 AM       20180740194     A   \n",
       "718019  PD201800783912  08/08/2018 10:15:20 AM                 0     A   \n",
       "718020  PD201800800491  08/13/2018 11:51:29 AM       20180693242     A   \n",
       "\n",
       "        Tencode                          Tencode Description  \\\n",
       "718018       45           Vehicle Accident - Property Damage   \n",
       "718019       43  Want Officer for Investigation / Assistance   \n",
       "718020       96                               Business Check   \n",
       "\n",
       "        Disposition Code Disposition Description   Block  \\\n",
       "718018                 1   M.P.D. REPORT COMPLED  6900.0   \n",
       "718019                11    DISREGARD / SIGNAL 9     0.0   \n",
       "718020                 4        ASSISTED CITIZEN     0.0   \n",
       "\n",
       "                        Street Name Unit Dispatched Sector Zone  Latitude  \\\n",
       "718018             NOLENSVILLE PKE             3T73      S   31    35.994   \n",
       "718019  HIGHWAY 70&CHEATHAM CO LINE             NaN      W   25    36.094   \n",
       "718020  HIGHWAY 70&CHEATHAM CO LINE            5252      W   23    36.094   \n",
       "\n",
       "        Longitude                geometry  zipcode         PO  \n",
       "718018    -86.685  POINT (-86.685 35.994)    37027  BRENTWOOD  \n",
       "718019    -87.038  POINT (-87.038 36.094)    37143     PEGRAM  \n",
       "718020    -87.038  POINT (-87.038 36.094)    37143     PEGRAM  "
      ]
     },
     "execution_count": 4,
     "metadata": {},
     "output_type": "execute_result"
    }
   ],
   "source": [
    "police_Calls.tail(3)  ##Returns the last three rows of data set. Without argument, defaults to five."
   ]
  },
  {
   "cell_type": "code",
   "execution_count": 5,
   "id": "46364ad8",
   "metadata": {},
   "outputs": [
    {
     "data": {
      "text/plain": [
       "(718021, 18)"
      ]
     },
     "execution_count": 5,
     "metadata": {},
     "output_type": "execute_result"
    }
   ],
   "source": [
    "police_Calls.shape  ##Returns number of rows and columns in data set (in that order.)"
   ]
  },
  {
   "cell_type": "code",
   "execution_count": 6,
   "id": "657f8610",
   "metadata": {},
   "outputs": [
    {
     "data": {
      "text/plain": [
       "Index(['Event Number', 'Call Received', 'Complaint Number', 'Shift', 'Tencode',\n",
       "       'Tencode Description', 'Disposition Code', 'Disposition Description',\n",
       "       'Block', 'Street Name', 'Unit Dispatched', 'Sector', 'Zone', 'Latitude',\n",
       "       'Longitude', 'geometry', 'zipcode', 'PO'],\n",
       "      dtype='object')"
      ]
     },
     "execution_count": 6,
     "metadata": {},
     "output_type": "execute_result"
    }
   ],
   "source": [
    "police_Calls.columns  ##Lists the columns of the data set."
   ]
  },
  {
   "cell_type": "code",
   "execution_count": 7,
   "id": "5d533b5b",
   "metadata": {},
   "outputs": [],
   "source": [
    "police_Calls = police_Calls.drop(columns = ['Event Number', 'Complaint Number', 'Block', 'Street Name', 'geometry'])  ##Removes a subset of the columns, passed as an argument."
   ]
  },
  {
   "cell_type": "code",
   "execution_count": 8,
   "id": "d4507ed4",
   "metadata": {},
   "outputs": [],
   "source": [
    "police_Calls = police_Calls.rename(columns = {\n",
    "    'Call Received': 'call_time',\n",
    "    'Shift': 'shift',\n",
    "    'Tencode': 'tencode',\n",
    "    'Tencode Description': 'tencode_desc',\n",
    "    'Disposition Code': 'disposition',\n",
    "    'Disposition Description': 'disposition_desc',\n",
    "    'Unit Dispatched': 'unit_dispatched',\n",
    "    'Sector': 'sector',\n",
    "    'Zone': 'zone',\n",
    "    'Latitude': 'lat',\n",
    "    'Longitude': 'lng',\n",
    "    'PO': 'po'}) ##More usable names for columns in dataframe"
   ]
  },
  {
   "cell_type": "code",
   "execution_count": 9,
   "id": "d5217b0e",
   "metadata": {
    "scrolled": true
   },
   "outputs": [
    {
     "data": {
      "text/html": [
       "<div>\n",
       "<style scoped>\n",
       "    .dataframe tbody tr th:only-of-type {\n",
       "        vertical-align: middle;\n",
       "    }\n",
       "\n",
       "    .dataframe tbody tr th {\n",
       "        vertical-align: top;\n",
       "    }\n",
       "\n",
       "    .dataframe thead th {\n",
       "        text-align: right;\n",
       "    }\n",
       "</style>\n",
       "<table border=\"1\" class=\"dataframe\">\n",
       "  <thead>\n",
       "    <tr style=\"text-align: right;\">\n",
       "      <th></th>\n",
       "      <th>call_time</th>\n",
       "      <th>shift</th>\n",
       "      <th>tencode</th>\n",
       "      <th>tencode_desc</th>\n",
       "      <th>disposition</th>\n",
       "      <th>disposition_desc</th>\n",
       "      <th>unit_dispatched</th>\n",
       "      <th>sector</th>\n",
       "      <th>zone</th>\n",
       "      <th>lat</th>\n",
       "      <th>lng</th>\n",
       "      <th>zipcode</th>\n",
       "      <th>po</th>\n",
       "    </tr>\n",
       "  </thead>\n",
       "  <tbody>\n",
       "    <tr>\n",
       "      <th>0</th>\n",
       "      <td>02/16/2018 07:09:00 PM</td>\n",
       "      <td>B</td>\n",
       "      <td>93</td>\n",
       "      <td>Traffic Violation</td>\n",
       "      <td>3</td>\n",
       "      <td>CITATION - TRAFFIC</td>\n",
       "      <td>521B</td>\n",
       "      <td>H</td>\n",
       "      <td>23</td>\n",
       "      <td>36.210</td>\n",
       "      <td>-86.600</td>\n",
       "      <td>37076</td>\n",
       "      <td>HERMITAGE</td>\n",
       "    </tr>\n",
       "    <tr>\n",
       "      <th>1</th>\n",
       "      <td>02/16/2018 08:02:00 PM</td>\n",
       "      <td>B</td>\n",
       "      <td>93</td>\n",
       "      <td>Traffic Violation</td>\n",
       "      <td>9</td>\n",
       "      <td>SUBJECT WARNED</td>\n",
       "      <td>5F34</td>\n",
       "      <td>H</td>\n",
       "      <td>21</td>\n",
       "      <td>36.169</td>\n",
       "      <td>-86.601</td>\n",
       "      <td>37076</td>\n",
       "      <td>HERMITAGE</td>\n",
       "    </tr>\n",
       "    <tr>\n",
       "      <th>2</th>\n",
       "      <td>02/16/2018 10:16:00 PM</td>\n",
       "      <td>B</td>\n",
       "      <td>3</td>\n",
       "      <td>Administrative/Special Assignment</td>\n",
       "      <td>6</td>\n",
       "      <td>ASSISTED OTHER UNIT</td>\n",
       "      <td>521B</td>\n",
       "      <td>H</td>\n",
       "      <td>21</td>\n",
       "      <td>36.178</td>\n",
       "      <td>-86.616</td>\n",
       "      <td>37076</td>\n",
       "      <td>HERMITAGE</td>\n",
       "    </tr>\n",
       "    <tr>\n",
       "      <th>3</th>\n",
       "      <td>02/16/2018 05:58:00 PM</td>\n",
       "      <td>B</td>\n",
       "      <td>87</td>\n",
       "      <td>Safety Hazard</td>\n",
       "      <td>3</td>\n",
       "      <td>CITATION - TRAFFIC</td>\n",
       "      <td>5122</td>\n",
       "      <td>H</td>\n",
       "      <td>23</td>\n",
       "      <td>36.170</td>\n",
       "      <td>-86.591</td>\n",
       "      <td>37076</td>\n",
       "      <td>HERMITAGE</td>\n",
       "    </tr>\n",
       "    <tr>\n",
       "      <th>4</th>\n",
       "      <td>02/16/2018 04:19:00 PM</td>\n",
       "      <td>B</td>\n",
       "      <td>93</td>\n",
       "      <td>Traffic Violation</td>\n",
       "      <td>9</td>\n",
       "      <td>SUBJECT WARNED</td>\n",
       "      <td>521B</td>\n",
       "      <td>H</td>\n",
       "      <td>23</td>\n",
       "      <td>36.175</td>\n",
       "      <td>-86.596</td>\n",
       "      <td>37076</td>\n",
       "      <td>HERMITAGE</td>\n",
       "    </tr>\n",
       "  </tbody>\n",
       "</table>\n",
       "</div>"
      ],
      "text/plain": [
       "                call_time shift  tencode                       tencode_desc  \\\n",
       "0  02/16/2018 07:09:00 PM     B       93                  Traffic Violation   \n",
       "1  02/16/2018 08:02:00 PM     B       93                  Traffic Violation   \n",
       "2  02/16/2018 10:16:00 PM     B        3  Administrative/Special Assignment   \n",
       "3  02/16/2018 05:58:00 PM     B       87                      Safety Hazard   \n",
       "4  02/16/2018 04:19:00 PM     B       93                  Traffic Violation   \n",
       "\n",
       "   disposition     disposition_desc unit_dispatched sector zone     lat  \\\n",
       "0            3   CITATION - TRAFFIC            521B      H   23  36.210   \n",
       "1            9       SUBJECT WARNED            5F34      H   21  36.169   \n",
       "2            6  ASSISTED OTHER UNIT            521B      H   21  36.178   \n",
       "3            3   CITATION - TRAFFIC            5122      H   23  36.170   \n",
       "4            9       SUBJECT WARNED            521B      H   23  36.175   \n",
       "\n",
       "      lng  zipcode         po  \n",
       "0 -86.600    37076  HERMITAGE  \n",
       "1 -86.601    37076  HERMITAGE  \n",
       "2 -86.616    37076  HERMITAGE  \n",
       "3 -86.591    37076  HERMITAGE  \n",
       "4 -86.596    37076  HERMITAGE  "
      ]
     },
     "execution_count": 9,
     "metadata": {},
     "output_type": "execute_result"
    }
   ],
   "source": [
    "police_Calls.head()"
   ]
  },
  {
   "cell_type": "code",
   "execution_count": 10,
   "id": "287821c8",
   "metadata": {},
   "outputs": [
    {
     "data": {
      "text/plain": [
       "array(['CITATION - TRAFFIC', 'SUBJECT WARNED', 'ASSISTED OTHER UNIT',\n",
       "       'GONE ON ARRIVAL', 'ASSISTED CITIZEN', 'COMMUNITY POLICING',\n",
       "       'LOCATION/BUILDING SECURE', 'DISREGARD / SIGNAL 9',\n",
       "       'M.P.D. REPORT COMPLED', 'ADVISED IN CIVIL CASE', 'FALSE CALL',\n",
       "       'NO RESPONSE', 'ARREST, CUSTODIAL OR CITATION',\n",
       "       'ASSISTANCE REFUSED', 'ADVISORY / NOTICE FORM GIVEN', nan],\n",
       "      dtype=object)"
      ]
     },
     "execution_count": 10,
     "metadata": {},
     "output_type": "execute_result"
    }
   ],
   "source": [
    "police_Calls['disposition_desc'].unique()  ##Lists all unique values in a given column."
   ]
  },
  {
   "cell_type": "code",
   "execution_count": 11,
   "id": "93ce5ed6",
   "metadata": {},
   "outputs": [],
   "source": [
    "police_Calls_Trimmed = police_Calls.loc[~police_Calls.disposition_desc.isin(['','DISREGARD / SIGNAL 9','NO RESPONSE'])]  ##Creates a new data set that does not include rows that have the disposition_desc equal to the values passed."
   ]
  },
  {
   "cell_type": "code",
   "execution_count": 12,
   "id": "1e2d2f5b",
   "metadata": {},
   "outputs": [],
   "source": [
    "police_Calls_Trimmed = police_Calls_Trimmed.loc[~police_Calls.disposition_desc.isna()]  ##Removes rows that do not have a disposition_desc value set. (May be possible to combine with above?)"
   ]
  },
  {
   "cell_type": "code",
   "execution_count": 13,
   "id": "d0d23b90",
   "metadata": {},
   "outputs": [
    {
     "data": {
      "text/plain": [
       "(624841, 13)"
      ]
     },
     "execution_count": 13,
     "metadata": {},
     "output_type": "execute_result"
    }
   ],
   "source": [
    "police_Calls_Trimmed.shape"
   ]
  },
  {
   "cell_type": "markdown",
   "id": "b59a7654",
   "metadata": {},
   "source": [
    "## Tencode analysis"
   ]
  },
  {
   "cell_type": "code",
   "execution_count": 14,
   "id": "8f9bb43c",
   "metadata": {},
   "outputs": [],
   "source": [
    "tencode_counts = police_Calls_Trimmed['tencode_desc'].value_counts() ##Creates series \"tencode_counts\" from the column \"tencode_desc\"'s unique value counts. Uses the values themselves as the index of the series. "
   ]
  },
  {
   "cell_type": "code",
   "execution_count": 15,
   "id": "6a32e7a5",
   "metadata": {},
   "outputs": [],
   "source": [
    "tencode_counts = tencode_counts.reset_index()  ##Converts string tencode_counts into a dataframe, adding the index as a column with the title \"index\"."
   ]
  },
  {
   "cell_type": "code",
   "execution_count": 16,
   "id": "e4737c70",
   "metadata": {},
   "outputs": [
    {
     "data": {
      "text/html": [
       "<div>\n",
       "<style scoped>\n",
       "    .dataframe tbody tr th:only-of-type {\n",
       "        vertical-align: middle;\n",
       "    }\n",
       "\n",
       "    .dataframe tbody tr th {\n",
       "        vertical-align: top;\n",
       "    }\n",
       "\n",
       "    .dataframe thead th {\n",
       "        text-align: right;\n",
       "    }\n",
       "</style>\n",
       "<table border=\"1\" class=\"dataframe\">\n",
       "  <thead>\n",
       "    <tr style=\"text-align: right;\">\n",
       "      <th></th>\n",
       "      <th>index</th>\n",
       "      <th>tencode_desc</th>\n",
       "    </tr>\n",
       "  </thead>\n",
       "  <tbody>\n",
       "    <tr>\n",
       "      <th>0</th>\n",
       "      <td>Business Check</td>\n",
       "      <td>154763</td>\n",
       "    </tr>\n",
       "    <tr>\n",
       "      <th>1</th>\n",
       "      <td>Traffic Violation</td>\n",
       "      <td>141283</td>\n",
       "    </tr>\n",
       "    <tr>\n",
       "      <th>2</th>\n",
       "      <td>Want Officer for Investigation / Assistance</td>\n",
       "      <td>100465</td>\n",
       "    </tr>\n",
       "    <tr>\n",
       "      <th>3</th>\n",
       "      <td>Administrative/Special Assignment</td>\n",
       "      <td>34094</td>\n",
       "    </tr>\n",
       "    <tr>\n",
       "      <th>4</th>\n",
       "      <td>Community Policing Activity</td>\n",
       "      <td>34001</td>\n",
       "    </tr>\n",
       "  </tbody>\n",
       "</table>\n",
       "</div>"
      ],
      "text/plain": [
       "                                         index  tencode_desc\n",
       "0                               Business Check        154763\n",
       "1                            Traffic Violation        141283\n",
       "2  Want Officer for Investigation / Assistance        100465\n",
       "3            Administrative/Special Assignment         34094\n",
       "4                  Community Policing Activity         34001"
      ]
     },
     "execution_count": 16,
     "metadata": {},
     "output_type": "execute_result"
    }
   ],
   "source": [
    "tencode_counts.head()"
   ]
  },
  {
   "cell_type": "code",
   "execution_count": 17,
   "id": "55ebfb81",
   "metadata": {},
   "outputs": [
    {
     "data": {
      "text/plain": [
       "pandas.core.frame.DataFrame"
      ]
     },
     "execution_count": 17,
     "metadata": {},
     "output_type": "execute_result"
    }
   ],
   "source": [
    "type(tencode_counts)  ##Returns the type of object \"tencode_counts\""
   ]
  },
  {
   "cell_type": "code",
   "execution_count": 18,
   "id": "04ea9a90",
   "metadata": {},
   "outputs": [
    {
     "data": {
      "image/png": "[encoded data removed]",
      "text/plain": [
       "<Figure size 720x864 with 1 Axes>"
      ]
     },
     "metadata": {
      "needs_background": "light"
     },
     "output_type": "display_data"
    }
   ],
   "source": [
    "plt.figure(figsize = (10, 12))                               # Increase the plot size to 10 x 12\n",
    "sns.set(style=\"whitegrid\")                                   # Change the plot style\n",
    "sns.barplot(x = 'tencode_desc', \n",
    "            y = 'index', \n",
    "            data = tencode_counts, \n",
    "            palette = 'Set2')                                \n",
    "plt.xlabel('Number of incidents')                                             \n",
    "plt.ylabel('Incident description')                                              \n",
    "plt.title('Most Common Police Responses in Nashville');      # Creates a horizontal plot through Seaborn, using style and palette set."
   ]
  },
  {
   "cell_type": "markdown",
   "id": "7b900eac",
   "metadata": {},
   "source": [
    "## Rudimentary location analysis by zip code\n",
    "(Not controlled for population)"
   ]
  },
  {
   "cell_type": "code",
   "execution_count": 19,
   "id": "1c84827b",
   "metadata": {},
   "outputs": [],
   "source": [
    "zips = police_Calls_Trimmed['zipcode'].value_counts()"
   ]
  },
  {
   "cell_type": "code",
   "execution_count": 20,
   "id": "d6f72e35",
   "metadata": {},
   "outputs": [],
   "source": [
    "zips = zips.reset_index()"
   ]
  },
  {
   "cell_type": "code",
   "execution_count": 21,
   "id": "3ed69040",
   "metadata": {},
   "outputs": [
    {
     "data": {
      "text/html": [
       "<div>\n",
       "<style scoped>\n",
       "    .dataframe tbody tr th:only-of-type {\n",
       "        vertical-align: middle;\n",
       "    }\n",
       "\n",
       "    .dataframe tbody tr th {\n",
       "        vertical-align: top;\n",
       "    }\n",
       "\n",
       "    .dataframe thead th {\n",
       "        text-align: right;\n",
       "    }\n",
       "</style>\n",
       "<table border=\"1\" class=\"dataframe\">\n",
       "  <thead>\n",
       "    <tr style=\"text-align: right;\">\n",
       "      <th></th>\n",
       "      <th>index</th>\n",
       "      <th>zipcode</th>\n",
       "    </tr>\n",
       "  </thead>\n",
       "  <tbody>\n",
       "    <tr>\n",
       "      <th>0</th>\n",
       "      <td>37203</td>\n",
       "      <td>61962</td>\n",
       "    </tr>\n",
       "    <tr>\n",
       "      <th>1</th>\n",
       "      <td>37209</td>\n",
       "      <td>52248</td>\n",
       "    </tr>\n",
       "    <tr>\n",
       "      <th>2</th>\n",
       "      <td>37207</td>\n",
       "      <td>48750</td>\n",
       "    </tr>\n",
       "    <tr>\n",
       "      <th>3</th>\n",
       "      <td>37211</td>\n",
       "      <td>47528</td>\n",
       "    </tr>\n",
       "    <tr>\n",
       "      <th>4</th>\n",
       "      <td>37115</td>\n",
       "      <td>39879</td>\n",
       "    </tr>\n",
       "  </tbody>\n",
       "</table>\n",
       "</div>"
      ],
      "text/plain": [
       "   index  zipcode\n",
       "0  37203    61962\n",
       "1  37209    52248\n",
       "2  37207    48750\n",
       "3  37211    47528\n",
       "4  37115    39879"
      ]
     },
     "execution_count": 21,
     "metadata": {},
     "output_type": "execute_result"
    }
   ],
   "source": [
    "zips.head()"
   ]
  },
  {
   "cell_type": "code",
   "execution_count": 22,
   "id": "26ecab50",
   "metadata": {},
   "outputs": [],
   "source": [
    "zips['index'] = zips['index'].astype('string') ##Converts the 'index' column to string."
   ]
  },
  {
   "cell_type": "code",
   "execution_count": 23,
   "id": "b0f3fbc1",
   "metadata": {},
   "outputs": [
    {
     "name": "stdout",
     "output_type": "stream",
     "text": [
      "<class 'pandas.core.frame.DataFrame'>\n",
      "RangeIndex: 38 entries, 0 to 37\n",
      "Data columns (total 2 columns):\n",
      " #   Column   Non-Null Count  Dtype \n",
      "---  ------   --------------  ----- \n",
      " 0   index    38 non-null     string\n",
      " 1   zipcode  38 non-null     int64 \n",
      "dtypes: int64(1), string(1)\n",
      "memory usage: 736.0 bytes\n"
     ]
    }
   ],
   "source": [
    "zips.info()  ##Confirms above step with Dtype column. Note other useful information here, too."
   ]
  },
  {
   "cell_type": "code",
   "execution_count": 24,
   "id": "895ff7cc",
   "metadata": {},
   "outputs": [
    {
     "data": {
      "text/plain": [
       "<AxesSubplot:ylabel='index'>"
      ]
     },
     "execution_count": 24,
     "metadata": {},
     "output_type": "execute_result"
    },
    {
     "data": {
      "image/png": "[encoded data removed]",
      "text/plain": [
       "<Figure size 432x288 with 1 Axes>"
      ]
     },
     "metadata": {},
     "output_type": "display_data"
    }
   ],
   "source": [
    "zips.plot(kind = 'barh',\n",
    "                   x = 'index',\n",
    "                   y = 'zipcode')  ##Example of default plot - matplotlib does not have particularly pretty defaults."
   ]
  },
  {
   "cell_type": "code",
   "execution_count": 25,
   "id": "58a84650",
   "metadata": {},
   "outputs": [
    {
     "data": {
      "image/png": "[encoded data removed]",
      "text/plain": [
       "<Figure size 720x720 with 1 Axes>"
      ]
     },
     "metadata": {},
     "output_type": "display_data"
    }
   ],
   "source": [
    "plt.figure(figsize = (10, 10))                               # Increase the plot size to 10 x 10\n",
    "sns.set(style=\"whitegrid\")                                  # Change the plot style\n",
    "sns.barplot(x = 'zipcode', \n",
    "            y = 'index', \n",
    "            data = zips, \n",
    "            palette = 'Set2')\n",
    "plt.xlabel('Number of incidents')                                              \n",
    "plt.ylabel('ZIP Code')                                              \n",
    "plt.title('Most Common Police Response Locations in Nashville');"
   ]
  },
  {
   "cell_type": "markdown",
   "id": "5cea0881",
   "metadata": {},
   "source": [
    "## Date analysis"
   ]
  },
  {
   "cell_type": "code",
   "execution_count": 26,
   "id": "6324a4bf",
   "metadata": {},
   "outputs": [
    {
     "data": {
      "text/html": [
       "<div>\n",
       "<style scoped>\n",
       "    .dataframe tbody tr th:only-of-type {\n",
       "        vertical-align: middle;\n",
       "    }\n",
       "\n",
       "    .dataframe tbody tr th {\n",
       "        vertical-align: top;\n",
       "    }\n",
       "\n",
       "    .dataframe thead th {\n",
       "        text-align: right;\n",
       "    }\n",
       "</style>\n",
       "<table border=\"1\" class=\"dataframe\">\n",
       "  <thead>\n",
       "    <tr style=\"text-align: right;\">\n",
       "      <th></th>\n",
       "      <th>call_time</th>\n",
       "      <th>shift</th>\n",
       "      <th>tencode</th>\n",
       "      <th>tencode_desc</th>\n",
       "      <th>disposition</th>\n",
       "      <th>disposition_desc</th>\n",
       "      <th>unit_dispatched</th>\n",
       "      <th>sector</th>\n",
       "      <th>zone</th>\n",
       "      <th>lat</th>\n",
       "      <th>lng</th>\n",
       "      <th>zipcode</th>\n",
       "      <th>po</th>\n",
       "    </tr>\n",
       "  </thead>\n",
       "  <tbody>\n",
       "    <tr>\n",
       "      <th>0</th>\n",
       "      <td>02/16/2018 07:09:00 PM</td>\n",
       "      <td>B</td>\n",
       "      <td>93</td>\n",
       "      <td>Traffic Violation</td>\n",
       "      <td>3</td>\n",
       "      <td>CITATION - TRAFFIC</td>\n",
       "      <td>521B</td>\n",
       "      <td>H</td>\n",
       "      <td>23</td>\n",
       "      <td>36.210</td>\n",
       "      <td>-86.600</td>\n",
       "      <td>37076</td>\n",
       "      <td>HERMITAGE</td>\n",
       "    </tr>\n",
       "    <tr>\n",
       "      <th>1</th>\n",
       "      <td>02/16/2018 08:02:00 PM</td>\n",
       "      <td>B</td>\n",
       "      <td>93</td>\n",
       "      <td>Traffic Violation</td>\n",
       "      <td>9</td>\n",
       "      <td>SUBJECT WARNED</td>\n",
       "      <td>5F34</td>\n",
       "      <td>H</td>\n",
       "      <td>21</td>\n",
       "      <td>36.169</td>\n",
       "      <td>-86.601</td>\n",
       "      <td>37076</td>\n",
       "      <td>HERMITAGE</td>\n",
       "    </tr>\n",
       "    <tr>\n",
       "      <th>2</th>\n",
       "      <td>02/16/2018 10:16:00 PM</td>\n",
       "      <td>B</td>\n",
       "      <td>3</td>\n",
       "      <td>Administrative/Special Assignment</td>\n",
       "      <td>6</td>\n",
       "      <td>ASSISTED OTHER UNIT</td>\n",
       "      <td>521B</td>\n",
       "      <td>H</td>\n",
       "      <td>21</td>\n",
       "      <td>36.178</td>\n",
       "      <td>-86.616</td>\n",
       "      <td>37076</td>\n",
       "      <td>HERMITAGE</td>\n",
       "    </tr>\n",
       "    <tr>\n",
       "      <th>3</th>\n",
       "      <td>02/16/2018 05:58:00 PM</td>\n",
       "      <td>B</td>\n",
       "      <td>87</td>\n",
       "      <td>Safety Hazard</td>\n",
       "      <td>3</td>\n",
       "      <td>CITATION - TRAFFIC</td>\n",
       "      <td>5122</td>\n",
       "      <td>H</td>\n",
       "      <td>23</td>\n",
       "      <td>36.170</td>\n",
       "      <td>-86.591</td>\n",
       "      <td>37076</td>\n",
       "      <td>HERMITAGE</td>\n",
       "    </tr>\n",
       "    <tr>\n",
       "      <th>4</th>\n",
       "      <td>02/16/2018 04:19:00 PM</td>\n",
       "      <td>B</td>\n",
       "      <td>93</td>\n",
       "      <td>Traffic Violation</td>\n",
       "      <td>9</td>\n",
       "      <td>SUBJECT WARNED</td>\n",
       "      <td>521B</td>\n",
       "      <td>H</td>\n",
       "      <td>23</td>\n",
       "      <td>36.175</td>\n",
       "      <td>-86.596</td>\n",
       "      <td>37076</td>\n",
       "      <td>HERMITAGE</td>\n",
       "    </tr>\n",
       "  </tbody>\n",
       "</table>\n",
       "</div>"
      ],
      "text/plain": [
       "                call_time shift  tencode                       tencode_desc  \\\n",
       "0  02/16/2018 07:09:00 PM     B       93                  Traffic Violation   \n",
       "1  02/16/2018 08:02:00 PM     B       93                  Traffic Violation   \n",
       "2  02/16/2018 10:16:00 PM     B        3  Administrative/Special Assignment   \n",
       "3  02/16/2018 05:58:00 PM     B       87                      Safety Hazard   \n",
       "4  02/16/2018 04:19:00 PM     B       93                  Traffic Violation   \n",
       "\n",
       "   disposition     disposition_desc unit_dispatched sector zone     lat  \\\n",
       "0            3   CITATION - TRAFFIC            521B      H   23  36.210   \n",
       "1            9       SUBJECT WARNED            5F34      H   21  36.169   \n",
       "2            6  ASSISTED OTHER UNIT            521B      H   21  36.178   \n",
       "3            3   CITATION - TRAFFIC            5122      H   23  36.170   \n",
       "4            9       SUBJECT WARNED            521B      H   23  36.175   \n",
       "\n",
       "      lng  zipcode         po  \n",
       "0 -86.600    37076  HERMITAGE  \n",
       "1 -86.601    37076  HERMITAGE  \n",
       "2 -86.616    37076  HERMITAGE  \n",
       "3 -86.591    37076  HERMITAGE  \n",
       "4 -86.596    37076  HERMITAGE  "
      ]
     },
     "execution_count": 26,
     "metadata": {},
     "output_type": "execute_result"
    }
   ],
   "source": [
    "police_Calls_Trimmed.head()"
   ]
  },
  {
   "cell_type": "code",
   "execution_count": 27,
   "id": "b7b633f9",
   "metadata": {},
   "outputs": [],
   "source": [
    "police_Calls_Trimmed['call_time'] = pd.to_datetime(police_Calls_Trimmed['call_time'], format = '%m/%d/%Y %I:%M:%S %p') ##See very useful format documentation at https://docs.python.org/3/library/datetime.html#strftime-and-strptime-behavior"
   ]
  },
  {
   "cell_type": "code",
   "execution_count": 28,
   "id": "b8fd1c44",
   "metadata": {},
   "outputs": [],
   "source": [
    "police_Calls_Trimmed['month'] = police_Calls_Trimmed['call_time'].dt.month_name() ##month_name used here to be more easily understood. Consider month for time comparisons."
   ]
  },
  {
   "cell_type": "code",
   "execution_count": 29,
   "id": "769403b0",
   "metadata": {},
   "outputs": [
    {
     "data": {
      "text/plain": [
       "January      85094\n",
       "March        79892\n",
       "May          74718\n",
       "August       73181\n",
       "June         73098\n",
       "February     72413\n",
       "April        65953\n",
       "July         57558\n",
       "September    42934\n",
       "Name: month, dtype: int64"
      ]
     },
     "execution_count": 29,
     "metadata": {},
     "output_type": "execute_result"
    }
   ],
   "source": [
    "police_Calls_Trimmed['month'].value_counts()"
   ]
  },
  {
   "cell_type": "code",
   "execution_count": 30,
   "id": "174e8a43",
   "metadata": {},
   "outputs": [
    {
     "data": {
      "image/png": "[encoded data removed]",
      "text/plain": [
       "<Figure size 720x360 with 1 Axes>"
      ]
     },
     "metadata": {},
     "output_type": "display_data"
    }
   ],
   "source": [
    "plt.figure(figsize = (10, 5))                               # Increase the plot size to 10 x 10\n",
    "sns.set(style=\"whitegrid\")                                  # Change the plot style\n",
    "sns.barplot(x = police_Calls_Trimmed['month'].value_counts(), \n",
    "            y = police_Calls_Trimmed['month'].value_counts().index, \n",
    "            data = police_Calls_Trimmed, \n",
    "            palette = 'Set2')\n",
    "plt.xlabel('Number of incidents')                                              \n",
    "plt.ylabel('Month')                                              \n",
    "plt.title('Police Call Frequency by Month');"
   ]
  },
  {
   "cell_type": "code",
   "execution_count": 31,
   "id": "a6e0999a",
   "metadata": {},
   "outputs": [],
   "source": [
    "police_Calls_Trimmed['weekday'] = police_Calls_Trimmed['call_time'].dt.day_name()  ##Uses the day_name function from pandas' datetime."
   ]
  },
  {
   "cell_type": "code",
   "execution_count": 32,
   "id": "c0e247fb",
   "metadata": {},
   "outputs": [
    {
     "data": {
      "text/plain": [
       "Tuesday      102706\n",
       "Wednesday    101700\n",
       "Thursday      97885\n",
       "Friday        95998\n",
       "Monday        92536\n",
       "Saturday      71102\n",
       "Sunday        62914\n",
       "Name: weekday, dtype: int64"
      ]
     },
     "execution_count": 32,
     "metadata": {},
     "output_type": "execute_result"
    }
   ],
   "source": [
    "police_Calls_Trimmed['weekday'].value_counts()"
   ]
  },
  {
   "cell_type": "code",
   "execution_count": 33,
   "id": "29aabf7c",
   "metadata": {},
   "outputs": [
    {
     "data": {
      "image/png": "[encoded data removed]",
      "text/plain": [
       "<Figure size 720x360 with 1 Axes>"
      ]
     },
     "metadata": {},
     "output_type": "display_data"
    }
   ],
   "source": [
    "plt.figure(figsize = (10, 5))                               # Increase the plot size to 10 x 10\n",
    "sns.set(style=\"whitegrid\")                                  # Change the plot style\n",
    "sns.barplot(x = police_Calls_Trimmed['weekday'].value_counts(), \n",
    "            y = police_Calls_Trimmed['weekday'].value_counts().index, \n",
    "            data = police_Calls_Trimmed, \n",
    "            palette = 'Set2')\n",
    "plt.xlabel('Number of incidents')                                              \n",
    "plt.ylabel('Weekday')                                              \n",
    "plt.title('Police Call Frequency by Weekday');"
   ]
  },
  {
   "cell_type": "markdown",
   "id": "f837c9d3",
   "metadata": {},
   "source": [
    "# Hub Nashville Dataset and Analysis"
   ]
  },
  {
   "cell_type": "code",
   "execution_count": 34,
   "id": "f4cf9f6e",
   "metadata": {},
   "outputs": [],
   "source": [
    "hub = pd.read_csv('../data/hubNashville_2018.csv')"
   ]
  },
  {
   "cell_type": "code",
   "execution_count": 35,
   "id": "2ff580b2",
   "metadata": {},
   "outputs": [
    {
     "data": {
      "text/plain": [
       "Index(['Request #', 'Status', 'Request Type', 'Subrequest Type',\n",
       "       'Additional Subrequest Type', 'Date / Time Opened',\n",
       "       'Date / Time Closed', 'Request Origin', 'Zipcode', 'Latitude',\n",
       "       'Longitude'],\n",
       "      dtype='object')"
      ]
     },
     "execution_count": 35,
     "metadata": {},
     "output_type": "execute_result"
    }
   ],
   "source": [
    "hub.columns"
   ]
  },
  {
   "cell_type": "code",
   "execution_count": 36,
   "id": "88466a7f",
   "metadata": {},
   "outputs": [
    {
     "data": {
      "text/html": [
       "<div>\n",
       "<style scoped>\n",
       "    .dataframe tbody tr th:only-of-type {\n",
       "        vertical-align: middle;\n",
       "    }\n",
       "\n",
       "    .dataframe tbody tr th {\n",
       "        vertical-align: top;\n",
       "    }\n",
       "\n",
       "    .dataframe thead th {\n",
       "        text-align: right;\n",
       "    }\n",
       "</style>\n",
       "<table border=\"1\" class=\"dataframe\">\n",
       "  <thead>\n",
       "    <tr style=\"text-align: right;\">\n",
       "      <th></th>\n",
       "      <th>Request #</th>\n",
       "      <th>Status</th>\n",
       "      <th>Request Type</th>\n",
       "      <th>Subrequest Type</th>\n",
       "      <th>Additional Subrequest Type</th>\n",
       "      <th>Date / Time Opened</th>\n",
       "      <th>Date / Time Closed</th>\n",
       "      <th>Request Origin</th>\n",
       "      <th>Zipcode</th>\n",
       "      <th>Latitude</th>\n",
       "      <th>Longitude</th>\n",
       "    </tr>\n",
       "  </thead>\n",
       "  <tbody>\n",
       "    <tr>\n",
       "      <th>0</th>\n",
       "      <td>45480</td>\n",
       "      <td>Closed</td>\n",
       "      <td>Streets, Roads &amp; Sidewalks</td>\n",
       "      <td>Blocking the Right of Way</td>\n",
       "      <td>Blocking the Right of Way</td>\n",
       "      <td>2018-02-12 14:00:20</td>\n",
       "      <td>02/12/2018 03:48:14 PM</td>\n",
       "      <td>Phone</td>\n",
       "      <td>37115.0</td>\n",
       "      <td>36.296917</td>\n",
       "      <td>-86.699162</td>\n",
       "    </tr>\n",
       "    <tr>\n",
       "      <th>1</th>\n",
       "      <td>45482</td>\n",
       "      <td>Closed</td>\n",
       "      <td>Streets, Roads &amp; Sidewalks</td>\n",
       "      <td>Blocking the Right of Way</td>\n",
       "      <td>Blocking the Right of Way</td>\n",
       "      <td>2018-02-12 14:00:21</td>\n",
       "      <td>02/12/2018 03:49:13 PM</td>\n",
       "      <td>Phone</td>\n",
       "      <td>37076.0</td>\n",
       "      <td>36.215403</td>\n",
       "      <td>-86.588513</td>\n",
       "    </tr>\n",
       "    <tr>\n",
       "      <th>2</th>\n",
       "      <td>43742</td>\n",
       "      <td>Closed</td>\n",
       "      <td>Trash, Recycling &amp; Litter</td>\n",
       "      <td>Litter</td>\n",
       "      <td>Litter</td>\n",
       "      <td>2018-02-02 21:18:15</td>\n",
       "      <td>02/07/2018 05:04:33 PM</td>\n",
       "      <td>Phone</td>\n",
       "      <td>37076.0</td>\n",
       "      <td>36.187902</td>\n",
       "      <td>-86.607286</td>\n",
       "    </tr>\n",
       "    <tr>\n",
       "      <th>3</th>\n",
       "      <td>49069</td>\n",
       "      <td>Closed</td>\n",
       "      <td>Streets, Roads &amp; Sidewalks</td>\n",
       "      <td>Blocking the Right of Way</td>\n",
       "      <td>Blocking the Right of Way</td>\n",
       "      <td>2018-02-23 23:27:07</td>\n",
       "      <td>02/27/2018 09:06:16 PM</td>\n",
       "      <td>hubNashville Community</td>\n",
       "      <td>37203.0</td>\n",
       "      <td>36.153761</td>\n",
       "      <td>-86.788745</td>\n",
       "    </tr>\n",
       "    <tr>\n",
       "      <th>4</th>\n",
       "      <td>44743</td>\n",
       "      <td>Closed</td>\n",
       "      <td>Streets, Roads &amp; Sidewalks</td>\n",
       "      <td>Blocking the Right of Way</td>\n",
       "      <td>Blocking the Right of Way</td>\n",
       "      <td>2018-02-08 14:00:04</td>\n",
       "      <td>02/08/2018 03:01:50 PM</td>\n",
       "      <td>Phone</td>\n",
       "      <td>37210.0</td>\n",
       "      <td>36.154836</td>\n",
       "      <td>-86.763345</td>\n",
       "    </tr>\n",
       "  </tbody>\n",
       "</table>\n",
       "</div>"
      ],
      "text/plain": [
       "   Request #  Status                Request Type            Subrequest Type  \\\n",
       "0      45480  Closed  Streets, Roads & Sidewalks  Blocking the Right of Way   \n",
       "1      45482  Closed  Streets, Roads & Sidewalks  Blocking the Right of Way   \n",
       "2      43742  Closed   Trash, Recycling & Litter                     Litter   \n",
       "3      49069  Closed  Streets, Roads & Sidewalks  Blocking the Right of Way   \n",
       "4      44743  Closed  Streets, Roads & Sidewalks  Blocking the Right of Way   \n",
       "\n",
       "  Additional Subrequest Type   Date / Time Opened      Date / Time Closed  \\\n",
       "0  Blocking the Right of Way  2018-02-12 14:00:20  02/12/2018 03:48:14 PM   \n",
       "1  Blocking the Right of Way  2018-02-12 14:00:21  02/12/2018 03:49:13 PM   \n",
       "2                     Litter  2018-02-02 21:18:15  02/07/2018 05:04:33 PM   \n",
       "3  Blocking the Right of Way  2018-02-23 23:27:07  02/27/2018 09:06:16 PM   \n",
       "4  Blocking the Right of Way  2018-02-08 14:00:04  02/08/2018 03:01:50 PM   \n",
       "\n",
       "           Request Origin  Zipcode   Latitude  Longitude  \n",
       "0                   Phone  37115.0  36.296917 -86.699162  \n",
       "1                   Phone  37076.0  36.215403 -86.588513  \n",
       "2                   Phone  37076.0  36.187902 -86.607286  \n",
       "3  hubNashville Community  37203.0  36.153761 -86.788745  \n",
       "4                   Phone  37210.0  36.154836 -86.763345  "
      ]
     },
     "execution_count": 36,
     "metadata": {},
     "output_type": "execute_result"
    }
   ],
   "source": [
    "hub.head()"
   ]
  },
  {
   "cell_type": "code",
   "execution_count": 37,
   "id": "81b1851e",
   "metadata": {},
   "outputs": [],
   "source": [
    "hub = hub.rename(columns = {\n",
    "    'Request #': 'request_id',\n",
    "    'Status': 'status',\n",
    "    'Request Type': 'request_type',\n",
    "    'Subrequest Type': 'subrequest_type',\n",
    "    'Additional Subrequest Type': 'add_subrequest_type',\n",
    "    'Date / Time Opened': 'opened',\n",
    "    'Date / Time Closed': 'closed',\n",
    "    'Request Origin': 'origin',\n",
    "    'Zipcode': 'zipcode',\n",
    "    'Latitude': 'lat',\n",
    "    'Longitude': 'lng'\n",
    "    })"
   ]
  },
  {
   "cell_type": "code",
   "execution_count": 38,
   "id": "1b59503e",
   "metadata": {},
   "outputs": [],
   "source": [
    "hub = hub.loc[~hub.closed.isna()]  ##Remove open requests"
   ]
  },
  {
   "cell_type": "code",
   "execution_count": 39,
   "id": "4a1d0270",
   "metadata": {},
   "outputs": [
    {
     "data": {
      "text/plain": [
       "(80866, 11)"
      ]
     },
     "execution_count": 39,
     "metadata": {},
     "output_type": "execute_result"
    }
   ],
   "source": [
    "hub.shape"
   ]
  },
  {
   "cell_type": "code",
   "execution_count": 40,
   "id": "fdba0fdd",
   "metadata": {},
   "outputs": [
    {
     "data": {
      "text/html": [
       "<div>\n",
       "<style scoped>\n",
       "    .dataframe tbody tr th:only-of-type {\n",
       "        vertical-align: middle;\n",
       "    }\n",
       "\n",
       "    .dataframe tbody tr th {\n",
       "        vertical-align: top;\n",
       "    }\n",
       "\n",
       "    .dataframe thead th {\n",
       "        text-align: right;\n",
       "    }\n",
       "</style>\n",
       "<table border=\"1\" class=\"dataframe\">\n",
       "  <thead>\n",
       "    <tr style=\"text-align: right;\">\n",
       "      <th></th>\n",
       "      <th>request_id</th>\n",
       "      <th>status</th>\n",
       "      <th>request_type</th>\n",
       "      <th>subrequest_type</th>\n",
       "      <th>add_subrequest_type</th>\n",
       "      <th>opened</th>\n",
       "      <th>closed</th>\n",
       "      <th>origin</th>\n",
       "      <th>zipcode</th>\n",
       "      <th>lat</th>\n",
       "      <th>lng</th>\n",
       "    </tr>\n",
       "  </thead>\n",
       "  <tbody>\n",
       "    <tr>\n",
       "      <th>0</th>\n",
       "      <td>45480</td>\n",
       "      <td>Closed</td>\n",
       "      <td>Streets, Roads &amp; Sidewalks</td>\n",
       "      <td>Blocking the Right of Way</td>\n",
       "      <td>Blocking the Right of Way</td>\n",
       "      <td>2018-02-12 14:00:20</td>\n",
       "      <td>02/12/2018 03:48:14 PM</td>\n",
       "      <td>Phone</td>\n",
       "      <td>37115.0</td>\n",
       "      <td>36.296917</td>\n",
       "      <td>-86.699162</td>\n",
       "    </tr>\n",
       "    <tr>\n",
       "      <th>1</th>\n",
       "      <td>45482</td>\n",
       "      <td>Closed</td>\n",
       "      <td>Streets, Roads &amp; Sidewalks</td>\n",
       "      <td>Blocking the Right of Way</td>\n",
       "      <td>Blocking the Right of Way</td>\n",
       "      <td>2018-02-12 14:00:21</td>\n",
       "      <td>02/12/2018 03:49:13 PM</td>\n",
       "      <td>Phone</td>\n",
       "      <td>37076.0</td>\n",
       "      <td>36.215403</td>\n",
       "      <td>-86.588513</td>\n",
       "    </tr>\n",
       "    <tr>\n",
       "      <th>2</th>\n",
       "      <td>43742</td>\n",
       "      <td>Closed</td>\n",
       "      <td>Trash, Recycling &amp; Litter</td>\n",
       "      <td>Litter</td>\n",
       "      <td>Litter</td>\n",
       "      <td>2018-02-02 21:18:15</td>\n",
       "      <td>02/07/2018 05:04:33 PM</td>\n",
       "      <td>Phone</td>\n",
       "      <td>37076.0</td>\n",
       "      <td>36.187902</td>\n",
       "      <td>-86.607286</td>\n",
       "    </tr>\n",
       "    <tr>\n",
       "      <th>3</th>\n",
       "      <td>49069</td>\n",
       "      <td>Closed</td>\n",
       "      <td>Streets, Roads &amp; Sidewalks</td>\n",
       "      <td>Blocking the Right of Way</td>\n",
       "      <td>Blocking the Right of Way</td>\n",
       "      <td>2018-02-23 23:27:07</td>\n",
       "      <td>02/27/2018 09:06:16 PM</td>\n",
       "      <td>hubNashville Community</td>\n",
       "      <td>37203.0</td>\n",
       "      <td>36.153761</td>\n",
       "      <td>-86.788745</td>\n",
       "    </tr>\n",
       "    <tr>\n",
       "      <th>4</th>\n",
       "      <td>44743</td>\n",
       "      <td>Closed</td>\n",
       "      <td>Streets, Roads &amp; Sidewalks</td>\n",
       "      <td>Blocking the Right of Way</td>\n",
       "      <td>Blocking the Right of Way</td>\n",
       "      <td>2018-02-08 14:00:04</td>\n",
       "      <td>02/08/2018 03:01:50 PM</td>\n",
       "      <td>Phone</td>\n",
       "      <td>37210.0</td>\n",
       "      <td>36.154836</td>\n",
       "      <td>-86.763345</td>\n",
       "    </tr>\n",
       "  </tbody>\n",
       "</table>\n",
       "</div>"
      ],
      "text/plain": [
       "   request_id  status                request_type            subrequest_type  \\\n",
       "0       45480  Closed  Streets, Roads & Sidewalks  Blocking the Right of Way   \n",
       "1       45482  Closed  Streets, Roads & Sidewalks  Blocking the Right of Way   \n",
       "2       43742  Closed   Trash, Recycling & Litter                     Litter   \n",
       "3       49069  Closed  Streets, Roads & Sidewalks  Blocking the Right of Way   \n",
       "4       44743  Closed  Streets, Roads & Sidewalks  Blocking the Right of Way   \n",
       "\n",
       "         add_subrequest_type               opened                  closed  \\\n",
       "0  Blocking the Right of Way  2018-02-12 14:00:20  02/12/2018 03:48:14 PM   \n",
       "1  Blocking the Right of Way  2018-02-12 14:00:21  02/12/2018 03:49:13 PM   \n",
       "2                     Litter  2018-02-02 21:18:15  02/07/2018 05:04:33 PM   \n",
       "3  Blocking the Right of Way  2018-02-23 23:27:07  02/27/2018 09:06:16 PM   \n",
       "4  Blocking the Right of Way  2018-02-08 14:00:04  02/08/2018 03:01:50 PM   \n",
       "\n",
       "                   origin  zipcode        lat        lng  \n",
       "0                   Phone  37115.0  36.296917 -86.699162  \n",
       "1                   Phone  37076.0  36.215403 -86.588513  \n",
       "2                   Phone  37076.0  36.187902 -86.607286  \n",
       "3  hubNashville Community  37203.0  36.153761 -86.788745  \n",
       "4                   Phone  37210.0  36.154836 -86.763345  "
      ]
     },
     "execution_count": 40,
     "metadata": {},
     "output_type": "execute_result"
    }
   ],
   "source": [
    "hub.head()"
   ]
  },
  {
   "cell_type": "code",
   "execution_count": 41,
   "id": "cb415d92",
   "metadata": {},
   "outputs": [],
   "source": [
    "hub.opened = pd.to_datetime(hub.opened, format = '%Y-%m-%d %H:%M:%S')"
   ]
  },
  {
   "cell_type": "code",
   "execution_count": 42,
   "id": "ce0a7548",
   "metadata": {},
   "outputs": [],
   "source": [
    "hub.closed = pd.to_datetime(hub.closed, format = '%m/%d/%Y %I:%M:%S %p')"
   ]
  },
  {
   "cell_type": "code",
   "execution_count": 43,
   "id": "e2eb6655",
   "metadata": {},
   "outputs": [
    {
     "data": {
      "text/html": [
       "<div>\n",
       "<style scoped>\n",
       "    .dataframe tbody tr th:only-of-type {\n",
       "        vertical-align: middle;\n",
       "    }\n",
       "\n",
       "    .dataframe tbody tr th {\n",
       "        vertical-align: top;\n",
       "    }\n",
       "\n",
       "    .dataframe thead th {\n",
       "        text-align: right;\n",
       "    }\n",
       "</style>\n",
       "<table border=\"1\" class=\"dataframe\">\n",
       "  <thead>\n",
       "    <tr style=\"text-align: right;\">\n",
       "      <th></th>\n",
       "      <th>request_id</th>\n",
       "      <th>status</th>\n",
       "      <th>request_type</th>\n",
       "      <th>subrequest_type</th>\n",
       "      <th>add_subrequest_type</th>\n",
       "      <th>opened</th>\n",
       "      <th>closed</th>\n",
       "      <th>origin</th>\n",
       "      <th>zipcode</th>\n",
       "      <th>lat</th>\n",
       "      <th>lng</th>\n",
       "    </tr>\n",
       "  </thead>\n",
       "  <tbody>\n",
       "    <tr>\n",
       "      <th>0</th>\n",
       "      <td>45480</td>\n",
       "      <td>Closed</td>\n",
       "      <td>Streets, Roads &amp; Sidewalks</td>\n",
       "      <td>Blocking the Right of Way</td>\n",
       "      <td>Blocking the Right of Way</td>\n",
       "      <td>2018-02-12 14:00:20</td>\n",
       "      <td>2018-02-12 15:48:14</td>\n",
       "      <td>Phone</td>\n",
       "      <td>37115.0</td>\n",
       "      <td>36.296917</td>\n",
       "      <td>-86.699162</td>\n",
       "    </tr>\n",
       "  </tbody>\n",
       "</table>\n",
       "</div>"
      ],
      "text/plain": [
       "   request_id  status                request_type            subrequest_type  \\\n",
       "0       45480  Closed  Streets, Roads & Sidewalks  Blocking the Right of Way   \n",
       "\n",
       "         add_subrequest_type              opened              closed origin  \\\n",
       "0  Blocking the Right of Way 2018-02-12 14:00:20 2018-02-12 15:48:14  Phone   \n",
       "\n",
       "   zipcode        lat        lng  \n",
       "0  37115.0  36.296917 -86.699162  "
      ]
     },
     "execution_count": 43,
     "metadata": {},
     "output_type": "execute_result"
    }
   ],
   "source": [
    "hub.head(1)"
   ]
  },
  {
   "cell_type": "code",
   "execution_count": 44,
   "id": "b548e8a8",
   "metadata": {},
   "outputs": [],
   "source": [
    "hub['resolution_time'] = hub.closed-hub.opened"
   ]
  },
  {
   "cell_type": "code",
   "execution_count": 45,
   "id": "8a4f07e5",
   "metadata": {},
   "outputs": [
    {
     "data": {
      "text/plain": [
       "Timedelta('938 days 02:22:16')"
      ]
     },
     "execution_count": 45,
     "metadata": {},
     "output_type": "execute_result"
    }
   ],
   "source": [
    "hub.resolution_time.max()"
   ]
  },
  {
   "cell_type": "code",
   "execution_count": 46,
   "id": "b2c8ab16",
   "metadata": {},
   "outputs": [],
   "source": [
    "slow_to_resolve = hub.loc[hub.resolution_time>pd.Timedelta(days=365)]"
   ]
  },
  {
   "cell_type": "code",
   "execution_count": 47,
   "id": "913b62ca",
   "metadata": {},
   "outputs": [
    {
     "data": {
      "text/html": [
       "<div>\n",
       "<style scoped>\n",
       "    .dataframe tbody tr th:only-of-type {\n",
       "        vertical-align: middle;\n",
       "    }\n",
       "\n",
       "    .dataframe tbody tr th {\n",
       "        vertical-align: top;\n",
       "    }\n",
       "\n",
       "    .dataframe thead th {\n",
       "        text-align: right;\n",
       "    }\n",
       "</style>\n",
       "<table border=\"1\" class=\"dataframe\">\n",
       "  <thead>\n",
       "    <tr style=\"text-align: right;\">\n",
       "      <th></th>\n",
       "      <th>request_id</th>\n",
       "      <th>status</th>\n",
       "      <th>request_type</th>\n",
       "      <th>subrequest_type</th>\n",
       "      <th>add_subrequest_type</th>\n",
       "      <th>opened</th>\n",
       "      <th>closed</th>\n",
       "      <th>origin</th>\n",
       "      <th>zipcode</th>\n",
       "      <th>lat</th>\n",
       "      <th>lng</th>\n",
       "      <th>resolution_time</th>\n",
       "    </tr>\n",
       "  </thead>\n",
       "  <tbody>\n",
       "    <tr>\n",
       "      <th>244</th>\n",
       "      <td>112161</td>\n",
       "      <td>Closed</td>\n",
       "      <td>Property Violations</td>\n",
       "      <td>Residential Complaint</td>\n",
       "      <td>Residential Complaint</td>\n",
       "      <td>2018-10-25 18:28:49</td>\n",
       "      <td>2020-03-18 08:12:19</td>\n",
       "      <td>hubNashville Community</td>\n",
       "      <td>37115.0</td>\n",
       "      <td>36.258170</td>\n",
       "      <td>-86.695750</td>\n",
       "      <td>509 days 13:43:30</td>\n",
       "    </tr>\n",
       "    <tr>\n",
       "      <th>250</th>\n",
       "      <td>123468</td>\n",
       "      <td>Closed</td>\n",
       "      <td>Public Safety</td>\n",
       "      <td>Abandoned Vehicles</td>\n",
       "      <td>Abandoned Vehicles</td>\n",
       "      <td>2018-12-14 13:12:04</td>\n",
       "      <td>2020-06-29 14:41:39</td>\n",
       "      <td>Phone</td>\n",
       "      <td>37207.0</td>\n",
       "      <td>36.245086</td>\n",
       "      <td>-86.773350</td>\n",
       "      <td>563 days 01:29:35</td>\n",
       "    </tr>\n",
       "    <tr>\n",
       "      <th>427</th>\n",
       "      <td>48380</td>\n",
       "      <td>Closed</td>\n",
       "      <td>Streets, Roads &amp; Sidewalks</td>\n",
       "      <td>Dip/Bump in Roadway</td>\n",
       "      <td>Dip/Bump in Roadway</td>\n",
       "      <td>2018-02-22 16:38:31</td>\n",
       "      <td>2019-12-30 16:59:17</td>\n",
       "      <td>hubNashville Community</td>\n",
       "      <td>37221.0</td>\n",
       "      <td>36.062642</td>\n",
       "      <td>-86.972435</td>\n",
       "      <td>676 days 00:20:46</td>\n",
       "    </tr>\n",
       "    <tr>\n",
       "      <th>522</th>\n",
       "      <td>117153</td>\n",
       "      <td>Closed</td>\n",
       "      <td>Other</td>\n",
       "      <td>Other</td>\n",
       "      <td>Other</td>\n",
       "      <td>2018-11-16 03:45:14</td>\n",
       "      <td>2020-01-17 20:39:58</td>\n",
       "      <td>hubNashville Community</td>\n",
       "      <td>37115.0</td>\n",
       "      <td>36.243802</td>\n",
       "      <td>-86.717873</td>\n",
       "      <td>427 days 16:54:44</td>\n",
       "    </tr>\n",
       "    <tr>\n",
       "      <th>577</th>\n",
       "      <td>84291</td>\n",
       "      <td>Closed</td>\n",
       "      <td>Property Violations</td>\n",
       "      <td>Cars Parked on Lawn</td>\n",
       "      <td>Cars Parked on Lawn</td>\n",
       "      <td>2018-07-19 18:50:09</td>\n",
       "      <td>2020-05-08 07:10:49</td>\n",
       "      <td>hubNashville Community</td>\n",
       "      <td>37211.0</td>\n",
       "      <td>36.127623</td>\n",
       "      <td>-86.757789</td>\n",
       "      <td>658 days 12:20:40</td>\n",
       "    </tr>\n",
       "  </tbody>\n",
       "</table>\n",
       "</div>"
      ],
      "text/plain": [
       "     request_id  status                request_type        subrequest_type  \\\n",
       "244      112161  Closed         Property Violations  Residential Complaint   \n",
       "250      123468  Closed               Public Safety     Abandoned Vehicles   \n",
       "427       48380  Closed  Streets, Roads & Sidewalks    Dip/Bump in Roadway   \n",
       "522      117153  Closed                       Other                  Other   \n",
       "577       84291  Closed         Property Violations    Cars Parked on Lawn   \n",
       "\n",
       "       add_subrequest_type              opened              closed  \\\n",
       "244  Residential Complaint 2018-10-25 18:28:49 2020-03-18 08:12:19   \n",
       "250     Abandoned Vehicles 2018-12-14 13:12:04 2020-06-29 14:41:39   \n",
       "427    Dip/Bump in Roadway 2018-02-22 16:38:31 2019-12-30 16:59:17   \n",
       "522                  Other 2018-11-16 03:45:14 2020-01-17 20:39:58   \n",
       "577    Cars Parked on Lawn 2018-07-19 18:50:09 2020-05-08 07:10:49   \n",
       "\n",
       "                     origin  zipcode        lat        lng   resolution_time  \n",
       "244  hubNashville Community  37115.0  36.258170 -86.695750 509 days 13:43:30  \n",
       "250                   Phone  37207.0  36.245086 -86.773350 563 days 01:29:35  \n",
       "427  hubNashville Community  37221.0  36.062642 -86.972435 676 days 00:20:46  \n",
       "522  hubNashville Community  37115.0  36.243802 -86.717873 427 days 16:54:44  \n",
       "577  hubNashville Community  37211.0  36.127623 -86.757789 658 days 12:20:40  "
      ]
     },
     "execution_count": 47,
     "metadata": {},
     "output_type": "execute_result"
    }
   ],
   "source": [
    "slow_to_resolve.head()"
   ]
  },
  {
   "cell_type": "code",
   "execution_count": 48,
   "id": "00ffb853",
   "metadata": {},
   "outputs": [
    {
     "data": {
      "text/plain": [
       "(288, 12)"
      ]
     },
     "execution_count": 48,
     "metadata": {},
     "output_type": "execute_result"
    }
   ],
   "source": [
    "slow_to_resolve.shape"
   ]
  },
  {
   "cell_type": "code",
   "execution_count": 49,
   "id": "a7dc735c",
   "metadata": {},
   "outputs": [
    {
     "data": {
      "text/plain": [
       "Streets, Roads & Sidewalks    159\n",
       "Property Violations            73\n",
       "Public Safety                  14\n",
       "Other                          14\n",
       "Electric & Water General       10\n",
       "Trash, Recycling & Litter       9\n",
       "Education & Libraries           5\n",
       "Social Services & Housing       2\n",
       "Planning & Zoning               2\n",
       "Name: request_type, dtype: int64"
      ]
     },
     "execution_count": 49,
     "metadata": {},
     "output_type": "execute_result"
    }
   ],
   "source": [
    "slow_to_resolve.request_type.value_counts()"
   ]
  },
  {
   "cell_type": "code",
   "execution_count": 50,
   "id": "6174871c",
   "metadata": {},
   "outputs": [],
   "source": [
    "hub['resolution_time_hours'] = hub['resolution_time'] / pd.Timedelta(hours = 1)"
   ]
  },
  {
   "cell_type": "code",
   "execution_count": 51,
   "id": "30597645",
   "metadata": {},
   "outputs": [
    {
     "data": {
      "text/html": [
       "<div>\n",
       "<style scoped>\n",
       "    .dataframe tbody tr th:only-of-type {\n",
       "        vertical-align: middle;\n",
       "    }\n",
       "\n",
       "    .dataframe tbody tr th {\n",
       "        vertical-align: top;\n",
       "    }\n",
       "\n",
       "    .dataframe thead th {\n",
       "        text-align: right;\n",
       "    }\n",
       "</style>\n",
       "<table border=\"1\" class=\"dataframe\">\n",
       "  <thead>\n",
       "    <tr style=\"text-align: right;\">\n",
       "      <th></th>\n",
       "      <th>request_id</th>\n",
       "      <th>status</th>\n",
       "      <th>request_type</th>\n",
       "      <th>subrequest_type</th>\n",
       "      <th>add_subrequest_type</th>\n",
       "      <th>opened</th>\n",
       "      <th>closed</th>\n",
       "      <th>origin</th>\n",
       "      <th>zipcode</th>\n",
       "      <th>lat</th>\n",
       "      <th>lng</th>\n",
       "      <th>resolution_time</th>\n",
       "      <th>resolution_time_hours</th>\n",
       "    </tr>\n",
       "  </thead>\n",
       "  <tbody>\n",
       "    <tr>\n",
       "      <th>0</th>\n",
       "      <td>45480</td>\n",
       "      <td>Closed</td>\n",
       "      <td>Streets, Roads &amp; Sidewalks</td>\n",
       "      <td>Blocking the Right of Way</td>\n",
       "      <td>Blocking the Right of Way</td>\n",
       "      <td>2018-02-12 14:00:20</td>\n",
       "      <td>2018-02-12 15:48:14</td>\n",
       "      <td>Phone</td>\n",
       "      <td>37115.0</td>\n",
       "      <td>36.296917</td>\n",
       "      <td>-86.699162</td>\n",
       "      <td>0 days 01:47:54</td>\n",
       "      <td>1.798333</td>\n",
       "    </tr>\n",
       "    <tr>\n",
       "      <th>1</th>\n",
       "      <td>45482</td>\n",
       "      <td>Closed</td>\n",
       "      <td>Streets, Roads &amp; Sidewalks</td>\n",
       "      <td>Blocking the Right of Way</td>\n",
       "      <td>Blocking the Right of Way</td>\n",
       "      <td>2018-02-12 14:00:21</td>\n",
       "      <td>2018-02-12 15:49:13</td>\n",
       "      <td>Phone</td>\n",
       "      <td>37076.0</td>\n",
       "      <td>36.215403</td>\n",
       "      <td>-86.588513</td>\n",
       "      <td>0 days 01:48:52</td>\n",
       "      <td>1.814444</td>\n",
       "    </tr>\n",
       "    <tr>\n",
       "      <th>2</th>\n",
       "      <td>43742</td>\n",
       "      <td>Closed</td>\n",
       "      <td>Trash, Recycling &amp; Litter</td>\n",
       "      <td>Litter</td>\n",
       "      <td>Litter</td>\n",
       "      <td>2018-02-02 21:18:15</td>\n",
       "      <td>2018-02-07 17:04:33</td>\n",
       "      <td>Phone</td>\n",
       "      <td>37076.0</td>\n",
       "      <td>36.187902</td>\n",
       "      <td>-86.607286</td>\n",
       "      <td>4 days 19:46:18</td>\n",
       "      <td>115.771667</td>\n",
       "    </tr>\n",
       "    <tr>\n",
       "      <th>3</th>\n",
       "      <td>49069</td>\n",
       "      <td>Closed</td>\n",
       "      <td>Streets, Roads &amp; Sidewalks</td>\n",
       "      <td>Blocking the Right of Way</td>\n",
       "      <td>Blocking the Right of Way</td>\n",
       "      <td>2018-02-23 23:27:07</td>\n",
       "      <td>2018-02-27 21:06:16</td>\n",
       "      <td>hubNashville Community</td>\n",
       "      <td>37203.0</td>\n",
       "      <td>36.153761</td>\n",
       "      <td>-86.788745</td>\n",
       "      <td>3 days 21:39:09</td>\n",
       "      <td>93.652500</td>\n",
       "    </tr>\n",
       "    <tr>\n",
       "      <th>4</th>\n",
       "      <td>44743</td>\n",
       "      <td>Closed</td>\n",
       "      <td>Streets, Roads &amp; Sidewalks</td>\n",
       "      <td>Blocking the Right of Way</td>\n",
       "      <td>Blocking the Right of Way</td>\n",
       "      <td>2018-02-08 14:00:04</td>\n",
       "      <td>2018-02-08 15:01:50</td>\n",
       "      <td>Phone</td>\n",
       "      <td>37210.0</td>\n",
       "      <td>36.154836</td>\n",
       "      <td>-86.763345</td>\n",
       "      <td>0 days 01:01:46</td>\n",
       "      <td>1.029444</td>\n",
       "    </tr>\n",
       "  </tbody>\n",
       "</table>\n",
       "</div>"
      ],
      "text/plain": [
       "   request_id  status                request_type            subrequest_type  \\\n",
       "0       45480  Closed  Streets, Roads & Sidewalks  Blocking the Right of Way   \n",
       "1       45482  Closed  Streets, Roads & Sidewalks  Blocking the Right of Way   \n",
       "2       43742  Closed   Trash, Recycling & Litter                     Litter   \n",
       "3       49069  Closed  Streets, Roads & Sidewalks  Blocking the Right of Way   \n",
       "4       44743  Closed  Streets, Roads & Sidewalks  Blocking the Right of Way   \n",
       "\n",
       "         add_subrequest_type              opened              closed  \\\n",
       "0  Blocking the Right of Way 2018-02-12 14:00:20 2018-02-12 15:48:14   \n",
       "1  Blocking the Right of Way 2018-02-12 14:00:21 2018-02-12 15:49:13   \n",
       "2                     Litter 2018-02-02 21:18:15 2018-02-07 17:04:33   \n",
       "3  Blocking the Right of Way 2018-02-23 23:27:07 2018-02-27 21:06:16   \n",
       "4  Blocking the Right of Way 2018-02-08 14:00:04 2018-02-08 15:01:50   \n",
       "\n",
       "                   origin  zipcode        lat        lng resolution_time  \\\n",
       "0                   Phone  37115.0  36.296917 -86.699162 0 days 01:47:54   \n",
       "1                   Phone  37076.0  36.215403 -86.588513 0 days 01:48:52   \n",
       "2                   Phone  37076.0  36.187902 -86.607286 4 days 19:46:18   \n",
       "3  hubNashville Community  37203.0  36.153761 -86.788745 3 days 21:39:09   \n",
       "4                   Phone  37210.0  36.154836 -86.763345 0 days 01:01:46   \n",
       "\n",
       "   resolution_time_hours  \n",
       "0               1.798333  \n",
       "1               1.814444  \n",
       "2             115.771667  \n",
       "3              93.652500  \n",
       "4               1.029444  "
      ]
     },
     "execution_count": 51,
     "metadata": {},
     "output_type": "execute_result"
    }
   ],
   "source": [
    "hub.head()"
   ]
  },
  {
   "cell_type": "code",
   "execution_count": 52,
   "id": "78bdb1e9",
   "metadata": {},
   "outputs": [
    {
     "data": {
      "text/plain": [
       "count    80866.000000\n",
       "mean       352.098805\n",
       "std       1038.193432\n",
       "min          0.000000\n",
       "25%         25.973958\n",
       "50%         73.271944\n",
       "75%        203.533333\n",
       "max      22514.371111\n",
       "Name: resolution_time_hours, dtype: float64"
      ]
     },
     "execution_count": 52,
     "metadata": {},
     "output_type": "execute_result"
    }
   ],
   "source": [
    "hub['resolution_time_hours'].describe()"
   ]
  },
  {
   "cell_type": "markdown",
   "id": "82c9891b",
   "metadata": {},
   "source": [
    "Wide variation in data makes most plots either unintuitive (log scale) or ungainly (normal scale). Representations of means of central tendency will be more useful."
   ]
  },
  {
   "cell_type": "markdown",
   "id": "75f47ab2",
   "metadata": {},
   "source": [
    "## Medians by zip code"
   ]
  },
  {
   "cell_type": "code",
   "execution_count": 53,
   "id": "5a991319",
   "metadata": {},
   "outputs": [],
   "source": [
    "hub['zipcode'] = hub['zipcode'].astype('string')"
   ]
  },
  {
   "cell_type": "code",
   "execution_count": 54,
   "id": "bd1598a7",
   "metadata": {},
   "outputs": [],
   "source": [
    "streets_median = hub.loc[hub.request_type == 'Streets, Roads & Sidewalks'].groupby('zipcode')['resolution_time_hours'].quantile(0.5)  ##Quantile function returns the value (argument) through the ascent-sorted data. Used here for median. Groupby subsets that to make the quantile return different responses for each zip code represented."
   ]
  },
  {
   "cell_type": "code",
   "execution_count": 55,
   "id": "b1f0c922",
   "metadata": {},
   "outputs": [],
   "source": [
    "streets_median = streets_median.reset_index()"
   ]
  },
  {
   "cell_type": "code",
   "execution_count": 56,
   "id": "75c7a89c",
   "metadata": {},
   "outputs": [],
   "source": [
    "streets_median = streets_median.rename(columns = {\n",
    "    'resolution_time_hours': 'median_resolution_time',\n",
    "    })"
   ]
  },
  {
   "cell_type": "code",
   "execution_count": 57,
   "id": "2bcea5ee",
   "metadata": {},
   "outputs": [],
   "source": [
    "streets_median = streets_median.sort_values(by=['median_resolution_time'], ascending=False)"
   ]
  },
  {
   "cell_type": "code",
   "execution_count": 58,
   "id": "a898a068",
   "metadata": {},
   "outputs": [
    {
     "data": {
      "image/png": "[encoded data removed]",
      "text/plain": [
       "<Figure size 864x360 with 1 Axes>"
      ]
     },
     "metadata": {},
     "output_type": "display_data"
    }
   ],
   "source": [
    "plt.figure(figsize = (12, 5))                               # Increase the plot size to 10 x 6\n",
    "sns.set(style=\"whitegrid\")                                  # Change the plot style\n",
    "plt.xticks(rotation = 90,                                   \n",
    "           fontsize = 12)  \n",
    "sns.barplot(x = 'zipcode', \n",
    "            y = 'median_resolution_time', \n",
    "            data = streets_median, \n",
    "            palette = 'Set2')\n",
    "plt.xlabel('Zip Code')                                              \n",
    "plt.ylabel('Median Time')                                              \n",
    "plt.title('Median time to resolve Street, Road, and Sidewalk requests from Nashville Hub by zip code');"
   ]
  },
  {
   "cell_type": "code",
   "execution_count": null,
   "id": "57cb431e",
   "metadata": {},
   "outputs": [],
   "source": []
  }
 ],
 "metadata": {
  "kernelspec": {
   "display_name": "Python 3 (ipykernel)",
   "language": "python",
   "name": "python3"
  },
  "language_info": {
   "codemirror_mode": {
    "name": "ipython",
    "version": 3
   },
   "file_extension": ".py",
   "mimetype": "text/x-python",
   "name": "python",
   "nbconvert_exporter": "python",
   "pygments_lexer": "ipython3",
   "version": "3.9.12"
  }
 },
 "nbformat": 4,
 "nbformat_minor": 5
}
